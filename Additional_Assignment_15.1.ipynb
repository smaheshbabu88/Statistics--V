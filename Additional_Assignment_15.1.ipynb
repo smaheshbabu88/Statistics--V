{
 "cells": [
  {
   "cell_type": "markdown",
   "metadata": {},
   "source": [
    "# Additional_Assignment_15.1"
   ]
  },
  {
   "cell_type": "markdown",
   "metadata": {},
   "source": [
    "## Problem Statement 1:"
   ]
  },
  {
   "cell_type": "markdown",
   "metadata": {},
   "source": [
    "In each of the following situations, state whether it is a correctly stated hypothesis testing problem and why?"
   ]
  },
  {
   "cell_type": "markdown",
   "metadata": {},
   "source": [
    "#### 1. 𝐻0: 𝜇 = 25, 𝐻1: 𝜇 ≠ 25"
   ]
  },
  {
   "cell_type": "markdown",
   "metadata": {},
   "source": [
    "Solution:\n",
    "The stated hypothesis testing problem is CORRECT.\n",
    "\n",
    "H0 is called as null hypothesis. The null hypothesis claims that the initial statement is assumed to be true.\n",
    "\n",
    "H1 is called as alternate hypothesis. The alternate hypothesis always claims against the null hypothesis. "
   ]
  },
  {
   "cell_type": "markdown",
   "metadata": {},
   "source": [
    "#### 2. 𝐻0: 𝜎 > 10, 𝐻1: 𝜎 = 10"
   ]
  },
  {
   "cell_type": "markdown",
   "metadata": {},
   "source": [
    "Solution:\n",
    "The stated hypothesis testing problem is INCORRECT.\n",
    "\n",
    "H0, the null hypothesis will claims to be equality. But in some cases like, when alternate hypothesis is stated with < sign, the null hypothesis will be considered as >= sign and when alternate hypothesis is stated with > sign, the null hypothesis will be considered as <= sign. So above statement is not correct."
   ]
  },
  {
   "cell_type": "markdown",
   "metadata": {},
   "source": [
    "#### 3. 𝐻0: 𝑥̅ = 50, 𝐻1: 𝑥̅ ≠ 50"
   ]
  },
  {
   "cell_type": "markdown",
   "metadata": {},
   "source": [
    "Solution:\n",
    "The stated hypothesis testing problem is CORRECT.\n",
    "\n",
    "Some references says, Hypothesis statements are for entire population or distribution. Samples are not considered under hypothesis testing. But it depends on problem statement. Until we have clear picture on problem statement, we can't ignore the samples, as sample can be population - 1. So above statement is correct."
   ]
  },
  {
   "cell_type": "markdown",
   "metadata": {},
   "source": [
    "#### 4. 𝐻0: 𝑝 = 0.1, 𝐻1: 𝑝 = 0.5"
   ]
  },
  {
   "cell_type": "markdown",
   "metadata": {},
   "source": [
    "Solution: The stated hypothesis testing problem is INCORRECT.\n",
    "\n",
    "H0, the null hypothesis will claims to be equality. But in some cases like, when alternate hypothesis is stated with < sign, the null hypothesis will be considered as >= sign and when alternate hypothesis is stated with > sign, the null hypothesis will be considered as <= sign. \n",
    "\n",
    "Also Values on both the hypothesis are different and hypothesis testing doesn't work on probability."
   ]
  },
  {
   "cell_type": "markdown",
   "metadata": {},
   "source": [
    "#### 5. 𝐻0: 𝑠 = 30, 𝐻1: 𝑠 > 30"
   ]
  },
  {
   "cell_type": "markdown",
   "metadata": {},
   "source": [
    "Solution:\n",
    "The stated hypothesis testing problem is INCORRECT.\n",
    "\n",
    "Hypothesis statements are for entire population or distribution. Samples are not considered under hypothesis testing."
   ]
  },
  {
   "cell_type": "markdown",
   "metadata": {},
   "source": [
    "## Problem Statement 2:"
   ]
  },
  {
   "cell_type": "markdown",
   "metadata": {},
   "source": [
    "The college bookstore tells prospective students that the average cost of its textbooks is Rs. 52 with a standard deviation of Rs. 4.50. A group of smart statistics students thinks that the average cost is higher. To test the bookstore’s claim against their alternative, the students will select a random sample of size 100. Assume that the mean from their random sample is Rs. 52.80. Perform a hypothesis test at the 5% level of significance and state your decision."
   ]
  },
  {
   "cell_type": "markdown",
   "metadata": {},
   "source": [
    "#### Solution:"
   ]
  },
  {
   "cell_type": "markdown",
   "metadata": {},
   "source": [
    "![PS_2_Solution_image.png](files/PS_2_Solution_image.png)"
   ]
  },
  {
   "cell_type": "markdown",
   "metadata": {},
   "source": [
    "## Problem Statement 3:"
   ]
  },
  {
   "cell_type": "markdown",
   "metadata": {},
   "source": [
    "A certain chemical pollutant in the Genesee River has been constant for several years with mean μ = 34 ppm (parts per million) and standard deviation σ = 8 ppm. A group of factory representatives whose companies discharge liquids into the river is now claiming that they have lowered the average with improved filtration devices. A group of environmentalists will test to see if this is true at the 1% level of significance. Assume \\ that their sample of size 50 gives a mean of 32.5 ppm. Perform a hypothesis test at the 1% level of significance and state your decision."
   ]
  },
  {
   "cell_type": "markdown",
   "metadata": {},
   "source": [
    "#### Solution:"
   ]
  },
  {
   "cell_type": "markdown",
   "metadata": {},
   "source": [
    "![PS_3_Solution_image.png](files/PS_3_Solution_image.png)"
   ]
  },
  {
   "cell_type": "markdown",
   "metadata": {},
   "source": [
    "## Problem Statement 4:"
   ]
  },
  {
   "cell_type": "markdown",
   "metadata": {},
   "source": [
    "Based on population figures and other general information on the U.S. population, suppose it has been estimated that, on average, a family of four in the U.S. spends about\n",
    "$1135 annually on dental expenditures. Suppose further that a regional dental association wants to test to determine if this figure is accurate for their area of country. To test this,\n",
    "22 families of 4 are randomly selected from the population in that area of the country and a log is kept of the family’s dental expenditure for one year. The resulting data are given below. Assuming, that dental expenditure is normally distributed in the population, use the data and an alpha of 0.5 to test the dental association’s hypothesis.\n",
    "1008, 812, 1117, 1323, 1308, 1415, 831, 1021, 1287, 851, 930, 730, 699,\n",
    "872, 913, 944, 954, 987, 1695, 995, 1003, 994"
   ]
  },
  {
   "cell_type": "markdown",
   "metadata": {},
   "source": [
    "#### Solution:"
   ]
  },
  {
   "cell_type": "markdown",
   "metadata": {},
   "source": [
    "Given:\n",
    "\n",
    "Mean = 1135\n",
    "\n",
    "Sample size(n) = 22\n",
    "\n",
    "Alpha = 0.05"
   ]
  },
  {
   "cell_type": "markdown",
   "metadata": {},
   "source": [
    "![PS_4_Solution_image_1.png](files/PS_4_Solution_image_1.png)"
   ]
  },
  {
   "cell_type": "code",
   "execution_count": 1,
   "metadata": {},
   "outputs": [
    {
     "data": {
      "text/plain": [
       "1031.3181818181818"
      ]
     },
     "execution_count": 1,
     "metadata": {},
     "output_type": "execute_result"
    }
   ],
   "source": [
    "import statistics as st\n",
    "import math\n",
    "\n",
    "sample = [1008, 812, 1117, 1323, 1308, 1415, 831, 1021, 1287, 851, 930, 730, 699, 872, 913, 944, 954, 987, 1695, 995, 1003, 994]\n",
    "sample_mean = st.mean(sample)\n",
    "sample_mean"
   ]
  },
  {
   "cell_type": "markdown",
   "metadata": {},
   "source": [
    "![PS_4_Solution_image_2.png](files/PS_4_Solution_image_2.png)"
   ]
  },
  {
   "cell_type": "code",
   "execution_count": 2,
   "metadata": {},
   "outputs": [],
   "source": [
    "val = []\n",
    "[val.append((i - sample_mean) ** 2) for i in sample]\n",
    "sample_std_dev = math.sqrt(sum(val)/21)"
   ]
  },
  {
   "cell_type": "markdown",
   "metadata": {},
   "source": [
    "![PS_4_Solution_image_3.png](files/PS_4_Solution_image_3.png)"
   ]
  },
  {
   "cell_type": "code",
   "execution_count": 3,
   "metadata": {},
   "outputs": [
    {
     "data": {
      "text/plain": [
       "-2.023137479931484"
      ]
     },
     "execution_count": 3,
     "metadata": {},
     "output_type": "execute_result"
    }
   ],
   "source": [
    "t = (sample_mean - 1135) / (sample_std_dev / math.sqrt(22))\n",
    "t"
   ]
  },
  {
   "cell_type": "markdown",
   "metadata": {},
   "source": [
    "![PS_4_Solution_image_4.png](files/PS_4_Solution_image_4.png)"
   ]
  },
  {
   "cell_type": "markdown",
   "metadata": {},
   "source": [
    "## Problem Statement 5:"
   ]
  },
  {
   "cell_type": "markdown",
   "metadata": {},
   "source": [
    "In a report prepared by the Economic Research Department of a major bank the\n",
    "Department manager maintains that the average annual family income on Metropolis is\n",
    "$48,432. \n",
    "\n",
    "What do you conclude about the validity of the report if a random sample of 400\n",
    "families shows and average income of $48,574 with a standard deviation of 2000?"
   ]
  },
  {
   "cell_type": "markdown",
   "metadata": {},
   "source": [
    "#### Solution:"
   ]
  },
  {
   "cell_type": "markdown",
   "metadata": {},
   "source": [
    "##### Given:"
   ]
  },
  {
   "cell_type": "markdown",
   "metadata": {},
   "source": [
    "Population Mean = 48432\n",
    "\n",
    "Sample Size = 400\n",
    "\n",
    "Sample Mean = 48574\n",
    "\n",
    "Sample Standard Deviation = 2000"
   ]
  },
  {
   "cell_type": "markdown",
   "metadata": {},
   "source": [
    "![PS_4_Solution_image_3.png](files/PS_4_Solution_image_3.png)"
   ]
  },
  {
   "cell_type": "code",
   "execution_count": 4,
   "metadata": {},
   "outputs": [
    {
     "data": {
      "text/plain": [
       "1.42"
      ]
     },
     "execution_count": 4,
     "metadata": {},
     "output_type": "execute_result"
    }
   ],
   "source": [
    "sample_mean = 48574\n",
    "population_mean = 48432\n",
    "sample_std_dev = 2000\n",
    "n = 400\n",
    "\n",
    "t = (sample_mean - population_mean) / (sample_std_dev / math.sqrt(400))\n",
    "t"
   ]
  },
  {
   "cell_type": "markdown",
   "metadata": {},
   "source": [
    "![PS_5_Solution_image.png](PS_5_Solution_image.png)"
   ]
  },
  {
   "cell_type": "markdown",
   "metadata": {},
   "source": [
    "## Problem Statement 6:"
   ]
  },
  {
   "cell_type": "markdown",
   "metadata": {},
   "source": [
    "Suppose that in past years the average price per square foot for warehouses in the United\n",
    "States has been $32.28. \n",
    "\n",
    "A national real estate investor wants to determine whether that\n",
    "figure has changed now. The investor hires a researcher who randomly samples 19\n",
    "warehouses that are for sale across the United States and finds that the mean price per\n",
    "square foot is $31.67, with a standard deviation of $1.29. assume that the prices of\n",
    "warehouse footage are normally distributed in population. If the researcher uses a 5%\n",
    "level of significance, what statistical conclusion can be reached? What are the\n",
    "hypotheses?"
   ]
  },
  {
   "cell_type": "markdown",
   "metadata": {},
   "source": [
    "#### Solution:"
   ]
  },
  {
   "cell_type": "markdown",
   "metadata": {},
   "source": [
    "##### Given:"
   ]
  },
  {
   "cell_type": "markdown",
   "metadata": {},
   "source": [
    "population mean = 32.28\n",
    "\n",
    "n = 19\n",
    "\n",
    "sample mean = 31.67\n",
    "\n",
    "sample std dev = 1.29\n",
    "\n",
    "alpha = 0.05"
   ]
  },
  {
   "cell_type": "code",
   "execution_count": 5,
   "metadata": {},
   "outputs": [
    {
     "data": {
      "text/plain": [
       "-2.06118477175179"
      ]
     },
     "execution_count": 5,
     "metadata": {},
     "output_type": "execute_result"
    }
   ],
   "source": [
    "(31.67-32.28)/(1.29/math.sqrt(19))"
   ]
  },
  {
   "cell_type": "markdown",
   "metadata": {},
   "source": [
    "![PS_6_Solution_image.jpg](files/PS_6_Solution_image.jpg)"
   ]
  },
  {
   "cell_type": "markdown",
   "metadata": {},
   "source": [
    "## Problem Statement 7:"
   ]
  },
  {
   "cell_type": "markdown",
   "metadata": {},
   "source": [
    "![PS_7.png](PS_7.png)"
   ]
  },
  {
   "cell_type": "markdown",
   "metadata": {},
   "source": [
    "#### Solution:"
   ]
  },
  {
   "cell_type": "markdown",
   "metadata": {},
   "source": [
    "![PS_7_Solution_image_1.png](PS_7_Solution_image_1.png)"
   ]
  },
  {
   "cell_type": "markdown",
   "metadata": {},
   "source": [
    "![PS_7_Solution_image_2.png](PS_7_Solution_image_2.png)"
   ]
  },
  {
   "cell_type": "markdown",
   "metadata": {},
   "source": [
    "![PS_7_Solution_image_3.png](PS_7_Solution_image_3.png)"
   ]
  },
  {
   "cell_type": "markdown",
   "metadata": {},
   "source": [
    "![PS_7_Solution_image_4.png](PS_7_Solution_image_4.png)"
   ]
  },
  {
   "cell_type": "markdown",
   "metadata": {},
   "source": [
    "![PS_7_Solution_image_5.jpg](PS_7_Solution_image_5.jpg)"
   ]
  },
  {
   "cell_type": "markdown",
   "metadata": {},
   "source": [
    "![PS_7_Solution_image_6.jpg](PS_7_Solution_image_6.jpg)"
   ]
  },
  {
   "cell_type": "markdown",
   "metadata": {},
   "source": [
    "![PS_7_Solution_image_7.jpg](PS_7_Solution_image_7.jpg)"
   ]
  },
  {
   "cell_type": "markdown",
   "metadata": {},
   "source": [
    "![PS_7_Solution_image_8.jpg](PS_7_Solution_image_8.jpg)"
   ]
  },
  {
   "cell_type": "markdown",
   "metadata": {},
   "source": [
    "## Problem Statement 8:"
   ]
  },
  {
   "cell_type": "markdown",
   "metadata": {},
   "source": [
    "Find the t-score for a sample size of 16 taken from a population with mean 10 when the\n",
    "sample mean is 12 and the sample standard deviation is 1.5"
   ]
  },
  {
   "cell_type": "markdown",
   "metadata": {},
   "source": [
    "#### Solution:"
   ]
  },
  {
   "attachments": {},
   "cell_type": "markdown",
   "metadata": {},
   "source": [
    "![PS_8_Solution_image.png](PS_8_Solution_image.png)"
   ]
  },
  {
   "cell_type": "markdown",
   "metadata": {},
   "source": [
    "## Problem Statement 9:"
   ]
  },
  {
   "cell_type": "markdown",
   "metadata": {},
   "source": [
    "Find the t-score below which we can expect 99% of sample means will fall if samples of\n",
    "size 16 are taken from a normally distributed population."
   ]
  },
  {
   "cell_type": "markdown",
   "metadata": {},
   "source": [
    "![PS_9_Solution_image.jpg](PS_9_Solution_image.jpg)"
   ]
  },
  {
   "cell_type": "markdown",
   "metadata": {},
   "source": [
    "## Problem Statement 10:"
   ]
  },
  {
   "cell_type": "markdown",
   "metadata": {},
   "source": [
    "If a random sample of size 25 drawn from a normal population gives a mean of 60 and a\n",
    "standard deviation of 4, find the range of t-scores where we can expect to find the\n",
    "middle 95% of all sample means. Compute the probability that 𝑃(−𝑡0.05 < 𝑡 < 𝑡0.10)."
   ]
  },
  {
   "cell_type": "markdown",
   "metadata": {},
   "source": [
    "![PS_10_Solution_image.jpg](PS_10_Solution_image.jpg)"
   ]
  },
  {
   "cell_type": "code",
   "execution_count": null,
   "metadata": {},
   "outputs": [],
   "source": []
  }
 ],
 "metadata": {
  "kernelspec": {
   "display_name": "Python 3",
   "language": "python",
   "name": "python3"
  },
  "language_info": {
   "codemirror_mode": {
    "name": "ipython",
    "version": 3
   },
   "file_extension": ".py",
   "mimetype": "text/x-python",
   "name": "python",
   "nbconvert_exporter": "python",
   "pygments_lexer": "ipython3",
   "version": "3.7.0"
  }
 },
 "nbformat": 4,
 "nbformat_minor": 2
}
